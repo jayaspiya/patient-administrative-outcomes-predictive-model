{
 "cells": [
  {
   "cell_type": "code",
   "execution_count": null,
   "metadata": {},
   "outputs": [],
   "source": [
    "%load_ext sparksql_magic"
   ]
  },
  {
   "cell_type": "code",
   "execution_count": null,
   "metadata": {},
   "outputs": [],
   "source": [
    "import os\n",
    "import pandas as pd\n",
    "import json\n",
    "\n",
    "from pyspark.sql import SparkSession\n",
    "import pyspark.sql.functions as F\n",
    "import pyspark.sql.types as T"
   ]
  },
  {
   "cell_type": "code",
   "execution_count": null,
   "metadata": {},
   "outputs": [],
   "source": [
    "DATA_BUCKET = \"../data_bucket/physionet_extract\"\n",
    "for item in os.listdir(DATA_BUCKET):\n",
    "    print(item)"
   ]
  },
  {
   "cell_type": "code",
   "execution_count": null,
   "metadata": {},
   "outputs": [],
   "source": [
    "spark = SparkSession.builder.appName(\"FhirDataApplication\").getOrCreate()"
   ]
  },
  {
   "cell_type": "markdown",
   "metadata": {},
   "source": [
    "# Read JSON with Schema"
   ]
  },
  {
   "cell_type": "code",
   "execution_count": null,
   "metadata": {},
   "outputs": [],
   "source": [
    "with open(f\"./schema/Encounter.json\") as f:\n",
    "    schema_read = json.loads(f.read())\n",
    "    encounter_schema = T.StructType.fromJson(schema_read)"
   ]
  },
  {
   "cell_type": "code",
   "execution_count": null,
   "metadata": {},
   "outputs": [],
   "source": [
    "resource = \"MimicEncounter\"\n",
    "data_path = f\"{DATA_BUCKET}/MimicEncounter.ndjson\"\n",
    "df_Encounter = spark.read.schema(encounter_schema).json(data_path)\n",
    "df_Encounter.createOrReplaceTempView(\"df_Encounter\")"
   ]
  },
  {
   "cell_type": "code",
   "execution_count": null,
   "metadata": {
    "vscode": {
     "languageId": "sql"
    }
   },
   "outputs": [],
   "source": [
    "%%sparksql\n",
    "select count(*) from df_Encounter limit 1"
   ]
  },
  {
   "cell_type": "markdown",
   "metadata": {},
   "source": [
    "# Read JSON Infer Schema"
   ]
  },
  {
   "cell_type": "code",
   "execution_count": null,
   "metadata": {},
   "outputs": [],
   "source": [
    "df_MimicEncounter = spark.read.json(f\"{DATA_BUCKET}/MimicEncounter.ndjson\")\n",
    "df_MimicEncounterED = spark.read.json(f\"{DATA_BUCKET}/MimicEncounterED.ndjson\")\n",
    "df_MimicEncounterICU = spark.read.json(f\"{DATA_BUCKET}/MimicEncounterICU.ndjson\")\n",
    "\n",
    "df_MimicEncounter.createOrReplaceTempView(\"df_MimicEncounter\")\n",
    "df_MimicEncounterED.createOrReplaceTempView(\"df_MimicEncounterED\")\n",
    "df_MimicEncounterICU.createOrReplaceTempView(\"df_MimicEncounterICU\")"
   ]
  },
  {
   "cell_type": "code",
   "execution_count": null,
   "metadata": {
    "vscode": {
     "languageId": "sql"
    }
   },
   "outputs": [],
   "source": [
    "df_MimicEncounter.printSchema()"
   ]
  },
  {
   "cell_type": "code",
   "execution_count": null,
   "metadata": {
    "vscode": {
     "languageId": "sql"
    }
   },
   "outputs": [],
   "source": [
    "%%sparksql\n",
    "SELECT * from df_MimicEncounter limit 2"
   ]
  },
  {
   "cell_type": "code",
   "execution_count": null,
   "metadata": {
    "vscode": {
     "languageId": "sql"
    }
   },
   "outputs": [],
   "source": [
    "%%sparksql\n",
    "-- Encounter Class of Each DF\n",
    "-- https://hl7.org/fhir/R4/v3/ActEncounterCode/vs.html\n",
    "SELECT \"df_MimicEncounter\" src, class.code, count(1) cnt FROM df_MimicEncounter GROUP BY 1,2 UNION\n",
    "SELECT \"df_MimicEncounterICU\" src, class.code, count(1) cnt FROM df_MimicEncounterICU GROUP BY 1,2 UNION\n",
    "SELECT \"df_MimicEncounterED\" src, class.code, count(1) cnt FROM df_MimicEncounterED GROUP BY 1,2\n",
    "ORDER BY 1,2"
   ]
  },
  {
   "cell_type": "code",
   "execution_count": null,
   "metadata": {
    "vscode": {
     "languageId": "sql"
    }
   },
   "outputs": [],
   "source": [
    "%%sparksql\n",
    "-- Code System\n",
    "-- AdmitSource: https://mimic.mit.edu/fhir/ValueSet-mimic-admit-source.html\n",
    "-- DischargeDisposition: https://mimic.mit.edu/fhir/ValueSet-mimic-discharge-disposition.html\n",
    "SELECT distinct \"admitSource\" key, explode(hospitalization.admitSource.coding.code) value from df_MimicEncounter UNION\n",
    "SELECT distinct \"dischargeDisposition\" key, explode(hospitalization.dischargeDisposition.coding.code) value from df_MimicEncounter\n",
    "ORDER BY 1,2"
   ]
  },
  {
   "cell_type": "code",
   "execution_count": null,
   "metadata": {
    "vscode": {
     "languageId": "sql"
    }
   },
   "outputs": [],
   "source": [
    "%%sparksql -l 10\n",
    "SELECT distinct\n",
    "hospitalization.admitSource.coding.code[0] admitSource,\n",
    "hospitalization.dischargeDisposition.coding.code[0] dischargeDisposition\n",
    "from df_MimicEncounter\n",
    "order by 1"
   ]
  },
  {
   "cell_type": "code",
   "execution_count": null,
   "metadata": {},
   "outputs": [],
   "source": [
    "%%sparksql -l 10\n",
    "SELECT distinct explode(type)\n",
    "from df_MimicEncounter\n",
    "order by 1"
   ]
  },
  {
   "cell_type": "code",
   "execution_count": null,
   "metadata": {},
   "outputs": [],
   "source": []
  }
 ],
 "metadata": {
  "kernelspec": {
   "display_name": "Python 3",
   "language": "python",
   "name": "python3"
  },
  "language_info": {
   "codemirror_mode": {
    "name": "ipython",
    "version": 3
   },
   "file_extension": ".py",
   "mimetype": "text/x-python",
   "name": "python",
   "nbconvert_exporter": "python",
   "pygments_lexer": "ipython3",
   "version": "3.10.12"
  }
 },
 "nbformat": 4,
 "nbformat_minor": 2
}
