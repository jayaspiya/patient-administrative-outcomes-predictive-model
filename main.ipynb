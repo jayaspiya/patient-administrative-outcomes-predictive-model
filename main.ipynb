{
 "cells": [
  {
   "cell_type": "markdown",
   "metadata": {},
   "source": [
    "# 0-project-init"
   ]
  },
  {
   "cell_type": "code",
   "execution_count": 1,
   "metadata": {},
   "outputs": [],
   "source": [
    "%load_ext sparksql_magic"
   ]
  },
  {
   "cell_type": "code",
   "execution_count": 2,
   "metadata": {},
   "outputs": [],
   "source": [
    "import os\n",
    "import pandas as pd\n",
    "import json\n",
    "\n",
    "from pyspark.sql import SparkSession\n",
    "import pyspark.sql.functions as F\n",
    "import pyspark.sql.types as T\n",
    "\n",
    "import plotly.express as px\n",
    "import plotly.graph_objects as go\n",
    "from plotly.subplots import make_subplots"
   ]
  },
  {
   "cell_type": "code",
   "execution_count": 3,
   "metadata": {},
   "outputs": [
    {
     "name": "stdout",
     "output_type": "stream",
     "text": [
      "MimicEncounter.ndjson\n",
      "MimicEncounterED.ndjson\n",
      "MimicEncounterICU.ndjson\n"
     ]
    }
   ],
   "source": [
    "DATA_BUCKET = \"../data_bucket/physionet_extract\"\n",
    "for item in os.listdir(DATA_BUCKET):\n",
    "    print(item)"
   ]
  },
  {
   "cell_type": "code",
   "execution_count": 4,
   "metadata": {},
   "outputs": [],
   "source": [
    "spark = SparkSession.builder.appName(\"FhirDataApplication\").getOrCreate()"
   ]
  },
  {
   "cell_type": "markdown",
   "metadata": {},
   "source": [
    "# 1-initial-data-analysis"
   ]
  },
  {
   "cell_type": "markdown",
   "metadata": {},
   "source": [
    "## Encounter Domain"
   ]
  },
  {
   "cell_type": "markdown",
   "metadata": {},
   "source": [
    "### a. Read Encounter Data with Infer Schema\n",
    "- There are three types Encounter Datasets: `MimicEncounter`, `MimicEncounterED` & `MimicEncounterICU`\n",
    "- Check for common columns for Each Encounter Dataset"
   ]
  },
  {
   "cell_type": "code",
   "execution_count": 5,
   "metadata": {},
   "outputs": [],
   "source": [
    "df_MimicEncounter = spark.read.json(f\"{DATA_BUCKET}/MimicEncounter.ndjson\")\n",
    "df_MimicEncounterED = spark.read.json(f\"{DATA_BUCKET}/MimicEncounterED.ndjson\")\n",
    "df_MimicEncounterICU = spark.read.json(f\"{DATA_BUCKET}/MimicEncounterICU.ndjson\")"
   ]
  },
  {
   "cell_type": "code",
   "execution_count": 6,
   "metadata": {},
   "outputs": [
    {
     "name": "stdout",
     "output_type": "stream",
     "text": [
      "+--------------------------------------------------------+-----------------------------------------------------+--------------+\n",
      "|column                                                  |sources                                              |num_of_sources|\n",
      "+--------------------------------------------------------+-----------------------------------------------------+--------------+\n",
      "|class___code                                            |[MimicEncounter, MimicEncounterED, MimicEncounterICU]|3             |\n",
      "|class___system                                          |[MimicEncounter, MimicEncounterED, MimicEncounterICU]|3             |\n",
      "|id                                                      |[MimicEncounter, MimicEncounterED, MimicEncounterICU]|3             |\n",
      "|identifier___system                                     |[MimicEncounter, MimicEncounterED, MimicEncounterICU]|3             |\n",
      "|identifier___value                                      |[MimicEncounter, MimicEncounterED, MimicEncounterICU]|3             |\n",
      "|meta___profile                                          |[MimicEncounter, MimicEncounterED, MimicEncounterICU]|3             |\n",
      "|period___end                                            |[MimicEncounter, MimicEncounterED, MimicEncounterICU]|3             |\n",
      "|period___start                                          |[MimicEncounter, MimicEncounterED, MimicEncounterICU]|3             |\n",
      "|resourceType                                            |[MimicEncounter, MimicEncounterED, MimicEncounterICU]|3             |\n",
      "|status                                                  |[MimicEncounter, MimicEncounterED, MimicEncounterICU]|3             |\n",
      "|subject___reference                                     |[MimicEncounter, MimicEncounterED, MimicEncounterICU]|3             |\n",
      "|type___coding___code                                    |[MimicEncounter, MimicEncounterED, MimicEncounterICU]|3             |\n",
      "|type___coding___display                                 |[MimicEncounter, MimicEncounterED, MimicEncounterICU]|3             |\n",
      "|type___coding___system                                  |[MimicEncounter, MimicEncounterED, MimicEncounterICU]|3             |\n",
      "|class___display                                         |[MimicEncounter, MimicEncounterED]                   |2             |\n",
      "|hospitalization___admitSource___coding___code           |[MimicEncounter, MimicEncounterED]                   |2             |\n",
      "|hospitalization___admitSource___coding___system         |[MimicEncounter, MimicEncounterED]                   |2             |\n",
      "|hospitalization___dischargeDisposition___coding___code  |[MimicEncounter, MimicEncounterED]                   |2             |\n",
      "|hospitalization___dischargeDisposition___coding___system|[MimicEncounter, MimicEncounterED]                   |2             |\n",
      "|identifier___assigner___reference                       |[MimicEncounter, MimicEncounterED]                   |2             |\n",
      "|identifier___use                                        |[MimicEncounter, MimicEncounterED]                   |2             |\n",
      "|location___location___reference                         |[MimicEncounter, MimicEncounterICU]                  |2             |\n",
      "|location___period___end                                 |[MimicEncounter, MimicEncounterICU]                  |2             |\n",
      "|location___period___start                               |[MimicEncounter, MimicEncounterICU]                  |2             |\n",
      "|partOf___reference                                      |[MimicEncounterED, MimicEncounterICU]                |2             |\n",
      "|serviceProvider___reference                             |[MimicEncounter, MimicEncounterED]                   |2             |\n",
      "|priority___coding___code                                |[MimicEncounter]                                     |1             |\n",
      "|priority___coding___display                             |[MimicEncounter]                                     |1             |\n",
      "|priority___coding___system                              |[MimicEncounter]                                     |1             |\n",
      "|serviceType___coding___code                             |[MimicEncounter]                                     |1             |\n",
      "|serviceType___coding___system                           |[MimicEncounter]                                     |1             |\n",
      "+--------------------------------------------------------+-----------------------------------------------------+--------------+\n",
      "\n"
     ]
    }
   ],
   "source": [
    "def recursive_schema_scan(schema, parent = \"\"):\n",
    "    result = []\n",
    "    for item in schema['fields']:\n",
    "        name, type = item['name'], item['type']\n",
    "        if isinstance(type, dict):\n",
    "            if type.get('type') == 'struct':\n",
    "                temp_result = recursive_schema_scan(type, f\"{parent}___{name}\")\n",
    "                result.extend(temp_result)\n",
    "            elif type.get('type') == 'array':\n",
    "                if isinstance(type.get('elementType'), dict):\n",
    "                    temp_result = recursive_schema_scan(type.get('elementType'), f\"{parent}___{name}\")\n",
    "                    result.extend(temp_result)\n",
    "                else:\n",
    "                    result.append(f\"{parent}___{name}\")\n",
    "            else:\n",
    "                # This case is not handled\n",
    "                raise Exception()\n",
    "        else:\n",
    "            result.append(f\"{parent}___{name}\")\n",
    "    return result\n",
    "\n",
    "result = []\n",
    "result.extend([(\"MimicEncounter\", item[3:]) for item in recursive_schema_scan(df_MimicEncounter.schema.jsonValue())])\n",
    "result.extend([(\"MimicEncounterED\", item[3:]) for item in recursive_schema_scan(df_MimicEncounterED.schema.jsonValue())])\n",
    "result.extend([(\"MimicEncounterICU\", item[3:]) for item in recursive_schema_scan(df_MimicEncounterICU.schema.jsonValue())])\n",
    "\n",
    "df_encounter_columns = spark.createDataFrame(result, schema=[\"source\", \"column\"])\n",
    "df_encounter_columns.createOrReplaceTempView('df_encounter_columns')\n",
    "\n",
    "spark.sql(\"\"\"\n",
    "    SELECT\n",
    "        column, collect_list(source) sources, count(*) num_of_sources\n",
    "    FROM df_encounter_columns\n",
    "    GROUP BY 1\n",
    "    ORDER BY 3 DESC, 1 ASC\n",
    "\"\"\").show(100, truncate = False)"
   ]
  },
  {
   "cell_type": "markdown",
   "metadata": {},
   "source": [
    "### b. Read Encounter Dataset with FHIR Schema"
   ]
  },
  {
   "cell_type": "code",
   "execution_count": 7,
   "metadata": {},
   "outputs": [],
   "source": [
    "# Read Encounter JSON Schema\n",
    "with open(f\"./schema/Encounter.json\") as f:\n",
    "    schema_read = json.loads(f.read())\n",
    "    encounter_schema = T.StructType.fromJson(schema_read)"
   ]
  },
  {
   "cell_type": "code",
   "execution_count": 8,
   "metadata": {},
   "outputs": [],
   "source": [
    "df_MimicEncounter = spark.read.schema(encounter_schema).json(f\"{DATA_BUCKET}/MimicEncounter.ndjson\").withColumn(\"source_name\", F.lit(\"MimicEncounter\"))\n",
    "df_MimicEncounterED = spark.read.schema(encounter_schema).json(f\"{DATA_BUCKET}/MimicEncounterED.ndjson\").withColumn(\"source_name\", F.lit(\"MimicEncounterED\"))\n",
    "df_MimicEncounterICU = spark.read.schema(encounter_schema).json(f\"{DATA_BUCKET}/MimicEncounterICU.ndjson\").withColumn(\"source_name\", F.lit(\"MimicEncounterICU\"))\n",
    "\n",
    "df_encounter_domain = df_MimicEncounter.unionAll(df_MimicEncounterED).unionAll(df_MimicEncounterICU)\n",
    "df_encounter_domain.createOrReplaceTempView(\"df_encounter_domain\")"
   ]
  },
  {
   "cell_type": "markdown",
   "metadata": {},
   "source": [
    "### c. Encounter Class Distribution"
   ]
  },
  {
   "cell_type": "code",
   "execution_count": 9,
   "metadata": {},
   "outputs": [],
   "source": [
    "df_encounter_class_distribution = spark.sql(\"\"\"\n",
    "-- Encounter Class of Each DF\n",
    "-- https://hl7.org/fhir/R4/v3/ActEncounterCode/vs.html\n",
    "SELECT\n",
    "    source_name,\n",
    "    class.code encounter_class,\n",
    "    count(1) cnt\n",
    "FROM df_encounter_domain GROUP BY 1, 2\n",
    "ORDER BY 1,2\n",
    "\"\"\")"
   ]
  },
  {
   "cell_type": "code",
   "execution_count": 10,
   "metadata": {},
   "outputs": [],
   "source": [
    "df_pandas_encounter_class_distribution = df_encounter_class_distribution.toPandas()\n",
    "fig_sunburst_encounter_class_distribution = px.sunburst(df_pandas_encounter_class_distribution, path=['source_name', 'encounter_class'], values='cnt')\n",
    "fig_sunburst_encounter_class_distribution.update_traces(textinfo='label+value')\n",
    "\n",
    "table_encounter_class_distribution = go.Table(\n",
    "    header=dict(values=list(df_pandas_encounter_class_distribution.columns),fill_color='paleturquoise',align='left'),\n",
    "    cells=dict(values=[df_pandas_encounter_class_distribution[col] for col in df_pandas_encounter_class_distribution.columns],align='left'))\n",
    "\n",
    "fig_table_encounter_class_distribution = go.Figure(data=[table_encounter_class_distribution])"
   ]
  },
  {
   "cell_type": "code",
   "execution_count": 11,
   "metadata": {},
   "outputs": [
    {
     "data": {
      "application/vnd.plotly.v1+json": {
       "config": {
        "plotlyServerURL": "https://plot.ly"
       },
       "data": [
        {
         "branchvalues": "total",
         "domain": {
          "x": [
           0,
           0.54
          ],
          "y": [
           0,
           1
          ]
         },
         "hovertemplate": "labels=%{label}<br>cnt=%{value}<br>parent=%{parent}<br>id=%{id}<extra></extra>",
         "ids": [
          "MimicEncounterICU/ACUTE",
          "MimicEncounter/AMB",
          "MimicEncounter/EMER",
          "MimicEncounterED/EMER",
          "MimicEncounter/OBSENC",
          "MimicEncounter/SS",
          "MimicEncounter",
          "MimicEncounterED",
          "MimicEncounterICU"
         ],
         "labels": [
          "ACUTE",
          "AMB",
          "EMER",
          "EMER",
          "OBSENC",
          "SS",
          "MimicEncounter",
          "MimicEncounterED",
          "MimicEncounterICU"
         ],
         "name": "",
         "parents": [
          "MimicEncounterICU",
          "MimicEncounter",
          "MimicEncounter",
          "MimicEncounterED",
          "MimicEncounter",
          "MimicEncounter",
          "",
          "",
          ""
         ],
         "textinfo": "label+value",
         "type": "sunburst",
         "values": [
          73181,
          61882,
          168967,
          425087,
          166151,
          34231,
          431231,
          425087,
          73181
         ]
        },
        {
         "cells": {
          "align": "left",
          "values": [
           [
            "MimicEncounter",
            "MimicEncounter",
            "MimicEncounter",
            "MimicEncounter",
            "MimicEncounterED",
            "MimicEncounterICU"
           ],
           [
            "AMB",
            "EMER",
            "OBSENC",
            "SS",
            "EMER",
            "ACUTE"
           ],
           [
            61882,
            168967,
            166151,
            34231,
            425087,
            73181
           ]
          ]
         },
         "domain": {
          "x": [
           0.64,
           1
          ],
          "y": [
           0,
           1
          ]
         },
         "header": {
          "align": "left",
          "fill": {
           "color": "paleturquoise"
          },
          "values": [
           "source_name",
           "encounter_class",
           "cnt"
          ]
         },
         "type": "table"
        }
       ],
       "layout": {
        "annotations": [
         {
          "font": {
           "size": 16
          },
          "showarrow": false,
          "text": "Data Table",
          "x": 0.8200000000000001,
          "xanchor": "center",
          "xref": "paper",
          "y": 1,
          "yanchor": "bottom",
          "yref": "paper"
         }
        ],
        "height": 600,
        "template": {
         "data": {
          "bar": [
           {
            "error_x": {
             "color": "#2a3f5f"
            },
            "error_y": {
             "color": "#2a3f5f"
            },
            "marker": {
             "line": {
              "color": "#E5ECF6",
              "width": 0.5
             },
             "pattern": {
              "fillmode": "overlay",
              "size": 10,
              "solidity": 0.2
             }
            },
            "type": "bar"
           }
          ],
          "barpolar": [
           {
            "marker": {
             "line": {
              "color": "#E5ECF6",
              "width": 0.5
             },
             "pattern": {
              "fillmode": "overlay",
              "size": 10,
              "solidity": 0.2
             }
            },
            "type": "barpolar"
           }
          ],
          "carpet": [
           {
            "aaxis": {
             "endlinecolor": "#2a3f5f",
             "gridcolor": "white",
             "linecolor": "white",
             "minorgridcolor": "white",
             "startlinecolor": "#2a3f5f"
            },
            "baxis": {
             "endlinecolor": "#2a3f5f",
             "gridcolor": "white",
             "linecolor": "white",
             "minorgridcolor": "white",
             "startlinecolor": "#2a3f5f"
            },
            "type": "carpet"
           }
          ],
          "choropleth": [
           {
            "colorbar": {
             "outlinewidth": 0,
             "ticks": ""
            },
            "type": "choropleth"
           }
          ],
          "contour": [
           {
            "colorbar": {
             "outlinewidth": 0,
             "ticks": ""
            },
            "colorscale": [
             [
              0,
              "#0d0887"
             ],
             [
              0.1111111111111111,
              "#46039f"
             ],
             [
              0.2222222222222222,
              "#7201a8"
             ],
             [
              0.3333333333333333,
              "#9c179e"
             ],
             [
              0.4444444444444444,
              "#bd3786"
             ],
             [
              0.5555555555555556,
              "#d8576b"
             ],
             [
              0.6666666666666666,
              "#ed7953"
             ],
             [
              0.7777777777777778,
              "#fb9f3a"
             ],
             [
              0.8888888888888888,
              "#fdca26"
             ],
             [
              1,
              "#f0f921"
             ]
            ],
            "type": "contour"
           }
          ],
          "contourcarpet": [
           {
            "colorbar": {
             "outlinewidth": 0,
             "ticks": ""
            },
            "type": "contourcarpet"
           }
          ],
          "heatmap": [
           {
            "colorbar": {
             "outlinewidth": 0,
             "ticks": ""
            },
            "colorscale": [
             [
              0,
              "#0d0887"
             ],
             [
              0.1111111111111111,
              "#46039f"
             ],
             [
              0.2222222222222222,
              "#7201a8"
             ],
             [
              0.3333333333333333,
              "#9c179e"
             ],
             [
              0.4444444444444444,
              "#bd3786"
             ],
             [
              0.5555555555555556,
              "#d8576b"
             ],
             [
              0.6666666666666666,
              "#ed7953"
             ],
             [
              0.7777777777777778,
              "#fb9f3a"
             ],
             [
              0.8888888888888888,
              "#fdca26"
             ],
             [
              1,
              "#f0f921"
             ]
            ],
            "type": "heatmap"
           }
          ],
          "heatmapgl": [
           {
            "colorbar": {
             "outlinewidth": 0,
             "ticks": ""
            },
            "colorscale": [
             [
              0,
              "#0d0887"
             ],
             [
              0.1111111111111111,
              "#46039f"
             ],
             [
              0.2222222222222222,
              "#7201a8"
             ],
             [
              0.3333333333333333,
              "#9c179e"
             ],
             [
              0.4444444444444444,
              "#bd3786"
             ],
             [
              0.5555555555555556,
              "#d8576b"
             ],
             [
              0.6666666666666666,
              "#ed7953"
             ],
             [
              0.7777777777777778,
              "#fb9f3a"
             ],
             [
              0.8888888888888888,
              "#fdca26"
             ],
             [
              1,
              "#f0f921"
             ]
            ],
            "type": "heatmapgl"
           }
          ],
          "histogram": [
           {
            "marker": {
             "pattern": {
              "fillmode": "overlay",
              "size": 10,
              "solidity": 0.2
             }
            },
            "type": "histogram"
           }
          ],
          "histogram2d": [
           {
            "colorbar": {
             "outlinewidth": 0,
             "ticks": ""
            },
            "colorscale": [
             [
              0,
              "#0d0887"
             ],
             [
              0.1111111111111111,
              "#46039f"
             ],
             [
              0.2222222222222222,
              "#7201a8"
             ],
             [
              0.3333333333333333,
              "#9c179e"
             ],
             [
              0.4444444444444444,
              "#bd3786"
             ],
             [
              0.5555555555555556,
              "#d8576b"
             ],
             [
              0.6666666666666666,
              "#ed7953"
             ],
             [
              0.7777777777777778,
              "#fb9f3a"
             ],
             [
              0.8888888888888888,
              "#fdca26"
             ],
             [
              1,
              "#f0f921"
             ]
            ],
            "type": "histogram2d"
           }
          ],
          "histogram2dcontour": [
           {
            "colorbar": {
             "outlinewidth": 0,
             "ticks": ""
            },
            "colorscale": [
             [
              0,
              "#0d0887"
             ],
             [
              0.1111111111111111,
              "#46039f"
             ],
             [
              0.2222222222222222,
              "#7201a8"
             ],
             [
              0.3333333333333333,
              "#9c179e"
             ],
             [
              0.4444444444444444,
              "#bd3786"
             ],
             [
              0.5555555555555556,
              "#d8576b"
             ],
             [
              0.6666666666666666,
              "#ed7953"
             ],
             [
              0.7777777777777778,
              "#fb9f3a"
             ],
             [
              0.8888888888888888,
              "#fdca26"
             ],
             [
              1,
              "#f0f921"
             ]
            ],
            "type": "histogram2dcontour"
           }
          ],
          "mesh3d": [
           {
            "colorbar": {
             "outlinewidth": 0,
             "ticks": ""
            },
            "type": "mesh3d"
           }
          ],
          "parcoords": [
           {
            "line": {
             "colorbar": {
              "outlinewidth": 0,
              "ticks": ""
             }
            },
            "type": "parcoords"
           }
          ],
          "pie": [
           {
            "automargin": true,
            "type": "pie"
           }
          ],
          "scatter": [
           {
            "fillpattern": {
             "fillmode": "overlay",
             "size": 10,
             "solidity": 0.2
            },
            "type": "scatter"
           }
          ],
          "scatter3d": [
           {
            "line": {
             "colorbar": {
              "outlinewidth": 0,
              "ticks": ""
             }
            },
            "marker": {
             "colorbar": {
              "outlinewidth": 0,
              "ticks": ""
             }
            },
            "type": "scatter3d"
           }
          ],
          "scattercarpet": [
           {
            "marker": {
             "colorbar": {
              "outlinewidth": 0,
              "ticks": ""
             }
            },
            "type": "scattercarpet"
           }
          ],
          "scattergeo": [
           {
            "marker": {
             "colorbar": {
              "outlinewidth": 0,
              "ticks": ""
             }
            },
            "type": "scattergeo"
           }
          ],
          "scattergl": [
           {
            "marker": {
             "colorbar": {
              "outlinewidth": 0,
              "ticks": ""
             }
            },
            "type": "scattergl"
           }
          ],
          "scattermapbox": [
           {
            "marker": {
             "colorbar": {
              "outlinewidth": 0,
              "ticks": ""
             }
            },
            "type": "scattermapbox"
           }
          ],
          "scatterpolar": [
           {
            "marker": {
             "colorbar": {
              "outlinewidth": 0,
              "ticks": ""
             }
            },
            "type": "scatterpolar"
           }
          ],
          "scatterpolargl": [
           {
            "marker": {
             "colorbar": {
              "outlinewidth": 0,
              "ticks": ""
             }
            },
            "type": "scatterpolargl"
           }
          ],
          "scatterternary": [
           {
            "marker": {
             "colorbar": {
              "outlinewidth": 0,
              "ticks": ""
             }
            },
            "type": "scatterternary"
           }
          ],
          "surface": [
           {
            "colorbar": {
             "outlinewidth": 0,
             "ticks": ""
            },
            "colorscale": [
             [
              0,
              "#0d0887"
             ],
             [
              0.1111111111111111,
              "#46039f"
             ],
             [
              0.2222222222222222,
              "#7201a8"
             ],
             [
              0.3333333333333333,
              "#9c179e"
             ],
             [
              0.4444444444444444,
              "#bd3786"
             ],
             [
              0.5555555555555556,
              "#d8576b"
             ],
             [
              0.6666666666666666,
              "#ed7953"
             ],
             [
              0.7777777777777778,
              "#fb9f3a"
             ],
             [
              0.8888888888888888,
              "#fdca26"
             ],
             [
              1,
              "#f0f921"
             ]
            ],
            "type": "surface"
           }
          ],
          "table": [
           {
            "cells": {
             "fill": {
              "color": "#EBF0F8"
             },
             "line": {
              "color": "white"
             }
            },
            "header": {
             "fill": {
              "color": "#C8D4E3"
             },
             "line": {
              "color": "white"
             }
            },
            "type": "table"
           }
          ]
         },
         "layout": {
          "annotationdefaults": {
           "arrowcolor": "#2a3f5f",
           "arrowhead": 0,
           "arrowwidth": 1
          },
          "autotypenumbers": "strict",
          "coloraxis": {
           "colorbar": {
            "outlinewidth": 0,
            "ticks": ""
           }
          },
          "colorscale": {
           "diverging": [
            [
             0,
             "#8e0152"
            ],
            [
             0.1,
             "#c51b7d"
            ],
            [
             0.2,
             "#de77ae"
            ],
            [
             0.3,
             "#f1b6da"
            ],
            [
             0.4,
             "#fde0ef"
            ],
            [
             0.5,
             "#f7f7f7"
            ],
            [
             0.6,
             "#e6f5d0"
            ],
            [
             0.7,
             "#b8e186"
            ],
            [
             0.8,
             "#7fbc41"
            ],
            [
             0.9,
             "#4d9221"
            ],
            [
             1,
             "#276419"
            ]
           ],
           "sequential": [
            [
             0,
             "#0d0887"
            ],
            [
             0.1111111111111111,
             "#46039f"
            ],
            [
             0.2222222222222222,
             "#7201a8"
            ],
            [
             0.3333333333333333,
             "#9c179e"
            ],
            [
             0.4444444444444444,
             "#bd3786"
            ],
            [
             0.5555555555555556,
             "#d8576b"
            ],
            [
             0.6666666666666666,
             "#ed7953"
            ],
            [
             0.7777777777777778,
             "#fb9f3a"
            ],
            [
             0.8888888888888888,
             "#fdca26"
            ],
            [
             1,
             "#f0f921"
            ]
           ],
           "sequentialminus": [
            [
             0,
             "#0d0887"
            ],
            [
             0.1111111111111111,
             "#46039f"
            ],
            [
             0.2222222222222222,
             "#7201a8"
            ],
            [
             0.3333333333333333,
             "#9c179e"
            ],
            [
             0.4444444444444444,
             "#bd3786"
            ],
            [
             0.5555555555555556,
             "#d8576b"
            ],
            [
             0.6666666666666666,
             "#ed7953"
            ],
            [
             0.7777777777777778,
             "#fb9f3a"
            ],
            [
             0.8888888888888888,
             "#fdca26"
            ],
            [
             1,
             "#f0f921"
            ]
           ]
          },
          "colorway": [
           "#636efa",
           "#EF553B",
           "#00cc96",
           "#ab63fa",
           "#FFA15A",
           "#19d3f3",
           "#FF6692",
           "#B6E880",
           "#FF97FF",
           "#FECB52"
          ],
          "font": {
           "color": "#2a3f5f"
          },
          "geo": {
           "bgcolor": "white",
           "lakecolor": "white",
           "landcolor": "#E5ECF6",
           "showlakes": true,
           "showland": true,
           "subunitcolor": "white"
          },
          "hoverlabel": {
           "align": "left"
          },
          "hovermode": "closest",
          "mapbox": {
           "style": "light"
          },
          "paper_bgcolor": "white",
          "plot_bgcolor": "#E5ECF6",
          "polar": {
           "angularaxis": {
            "gridcolor": "white",
            "linecolor": "white",
            "ticks": ""
           },
           "bgcolor": "#E5ECF6",
           "radialaxis": {
            "gridcolor": "white",
            "linecolor": "white",
            "ticks": ""
           }
          },
          "scene": {
           "xaxis": {
            "backgroundcolor": "#E5ECF6",
            "gridcolor": "white",
            "gridwidth": 2,
            "linecolor": "white",
            "showbackground": true,
            "ticks": "",
            "zerolinecolor": "white"
           },
           "yaxis": {
            "backgroundcolor": "#E5ECF6",
            "gridcolor": "white",
            "gridwidth": 2,
            "linecolor": "white",
            "showbackground": true,
            "ticks": "",
            "zerolinecolor": "white"
           },
           "zaxis": {
            "backgroundcolor": "#E5ECF6",
            "gridcolor": "white",
            "gridwidth": 2,
            "linecolor": "white",
            "showbackground": true,
            "ticks": "",
            "zerolinecolor": "white"
           }
          },
          "shapedefaults": {
           "line": {
            "color": "#2a3f5f"
           }
          },
          "ternary": {
           "aaxis": {
            "gridcolor": "white",
            "linecolor": "white",
            "ticks": ""
           },
           "baxis": {
            "gridcolor": "white",
            "linecolor": "white",
            "ticks": ""
           },
           "bgcolor": "#E5ECF6",
           "caxis": {
            "gridcolor": "white",
            "linecolor": "white",
            "ticks": ""
           }
          },
          "title": {
           "x": 0.05
          },
          "xaxis": {
           "automargin": true,
           "gridcolor": "white",
           "linecolor": "white",
           "ticks": "",
           "title": {
            "standoff": 15
           },
           "zerolinecolor": "white",
           "zerolinewidth": 2
          },
          "yaxis": {
           "automargin": true,
           "gridcolor": "white",
           "linecolor": "white",
           "ticks": "",
           "title": {
            "standoff": 15
           },
           "zerolinecolor": "white",
           "zerolinewidth": 2
          }
         }
        },
        "title": {
         "text": "Encounter Class Distribution by Source"
        }
       }
      }
     },
     "metadata": {},
     "output_type": "display_data"
    }
   ],
   "source": [
    "# Make Subplot Figure\n",
    "fig_subplot_encounter_class_distribution = make_subplots(\n",
    "    rows=1, cols=2,\n",
    "    column_widths=[0.6, 0.4],\n",
    "    subplot_titles=(\"\", \"Data Table\"),\n",
    "    specs=[[{\"type\": \"sunburst\"}, {\"type\": \"table\"}]]\n",
    ")\n",
    "\n",
    "# Add charts to the figure\n",
    "fig_subplot_encounter_class_distribution.add_trace(fig_sunburst_encounter_class_distribution.data[0], row=1, col=1)\n",
    "fig_subplot_encounter_class_distribution.add_trace(fig_table_encounter_class_distribution.data[0], row=1, col=2)\n",
    "\n",
    "fig_subplot_encounter_class_distribution.update_layout(\n",
    "    height=600,\n",
    "    title_text=\"Encounter Class Distribution by Source\"\n",
    ")\n",
    "\n",
    "fig_subplot_encounter_class_distribution.show()"
   ]
  },
  {
   "cell_type": "markdown",
   "metadata": {},
   "source": [
    "### d. Encounter Class Transition"
   ]
  },
  {
   "cell_type": "code",
   "execution_count": 12,
   "metadata": {},
   "outputs": [],
   "source": [
    "df_encounter_class_transition = spark.sql(\"\"\"\n",
    "WITH encounter AS (\n",
    "    SELECT\n",
    "        id,\n",
    "        class.code,\n",
    "        replace(partOf.reference, \"Encounter/\", \"\") parent_id,\n",
    "        CAST(period.start AS Date) period_start,\n",
    "        CAST(period.end AS Date)   period_end\n",
    "    FROM df_encounter_domain\n",
    "),\n",
    "encounter_parent_child_transition AS (\n",
    "    SELECT\n",
    "        parent_encounter.id              AS parent_encounter_id,\n",
    "        parent_encounter.code            AS parent_encounter_code,\n",
    "        parent_encounter.period_start    AS parent_encounter_period_start,\n",
    "        parent_encounter.period_end      AS parent_encounter_period_end,\n",
    "        (parent_encounter.period_end - parent_encounter.period_start) parent_encounter_duration,\n",
    "        child_encounter.id               AS child_encounter_id,\n",
    "        child_encounter.code             AS child_encounter_code,\n",
    "        child_encounter.period_start     AS child_encounter_period_start,\n",
    "        child_encounter.period_end       AS child_encounter_period_end,\n",
    "        (child_encounter.period_end - child_encounter.period_start) child_encounter_duration,\n",
    "        (parent_encounter.period_end - child_encounter.period_start) duration_between_parent_child\n",
    "    FROM encounter child_encounter\n",
    "    LEFT JOIN encounter parent_encounter\n",
    "    ON child_encounter.parent_id = parent_encounter.id\n",
    "    WHERE child_encounter.parent_id IS NOT NULL\n",
    ")\n",
    "-- SELECT * FROPM encounter_parent_child_transition\n",
    "SELECT\n",
    "    parent_encounter_code,\n",
    "    child_encounter_code,\n",
    "    count(*) cnt\n",
    "FROM encounter_parent_child_transition\n",
    "GROUP BY ALL\n",
    "ORDER BY 3 DESC\n",
    "\"\"\")"
   ]
  },
  {
   "cell_type": "code",
   "execution_count": 13,
   "metadata": {},
   "outputs": [
    {
     "data": {
      "application/vnd.plotly.v1+json": {
       "config": {
        "plotlyServerURL": "https://plot.ly"
       },
       "data": [
        {
         "link": {
          "source": [
           2,
           0,
           0,
           1,
           2,
           3,
           1,
           3
          ],
          "target": [
           0,
           0,
           4,
           4,
           4,
           4,
           0,
           0
          ],
          "value": [
           118051,
           78080,
           41376,
           14898,
           9534,
           7373,
           6871,
           14
          ]
         },
         "node": {
          "label": [
           "EMER",
           "AMB",
           "OBSENC",
           "SS",
           "ACUTE"
          ],
          "line": {
           "color": "black",
           "width": 0.5
          },
          "pad": 15,
          "thickness": 20
         },
         "type": "sankey"
        }
       ],
       "layout": {
        "height": 600,
        "template": {
         "data": {
          "bar": [
           {
            "error_x": {
             "color": "#2a3f5f"
            },
            "error_y": {
             "color": "#2a3f5f"
            },
            "marker": {
             "line": {
              "color": "#E5ECF6",
              "width": 0.5
             },
             "pattern": {
              "fillmode": "overlay",
              "size": 10,
              "solidity": 0.2
             }
            },
            "type": "bar"
           }
          ],
          "barpolar": [
           {
            "marker": {
             "line": {
              "color": "#E5ECF6",
              "width": 0.5
             },
             "pattern": {
              "fillmode": "overlay",
              "size": 10,
              "solidity": 0.2
             }
            },
            "type": "barpolar"
           }
          ],
          "carpet": [
           {
            "aaxis": {
             "endlinecolor": "#2a3f5f",
             "gridcolor": "white",
             "linecolor": "white",
             "minorgridcolor": "white",
             "startlinecolor": "#2a3f5f"
            },
            "baxis": {
             "endlinecolor": "#2a3f5f",
             "gridcolor": "white",
             "linecolor": "white",
             "minorgridcolor": "white",
             "startlinecolor": "#2a3f5f"
            },
            "type": "carpet"
           }
          ],
          "choropleth": [
           {
            "colorbar": {
             "outlinewidth": 0,
             "ticks": ""
            },
            "type": "choropleth"
           }
          ],
          "contour": [
           {
            "colorbar": {
             "outlinewidth": 0,
             "ticks": ""
            },
            "colorscale": [
             [
              0,
              "#0d0887"
             ],
             [
              0.1111111111111111,
              "#46039f"
             ],
             [
              0.2222222222222222,
              "#7201a8"
             ],
             [
              0.3333333333333333,
              "#9c179e"
             ],
             [
              0.4444444444444444,
              "#bd3786"
             ],
             [
              0.5555555555555556,
              "#d8576b"
             ],
             [
              0.6666666666666666,
              "#ed7953"
             ],
             [
              0.7777777777777778,
              "#fb9f3a"
             ],
             [
              0.8888888888888888,
              "#fdca26"
             ],
             [
              1,
              "#f0f921"
             ]
            ],
            "type": "contour"
           }
          ],
          "contourcarpet": [
           {
            "colorbar": {
             "outlinewidth": 0,
             "ticks": ""
            },
            "type": "contourcarpet"
           }
          ],
          "heatmap": [
           {
            "colorbar": {
             "outlinewidth": 0,
             "ticks": ""
            },
            "colorscale": [
             [
              0,
              "#0d0887"
             ],
             [
              0.1111111111111111,
              "#46039f"
             ],
             [
              0.2222222222222222,
              "#7201a8"
             ],
             [
              0.3333333333333333,
              "#9c179e"
             ],
             [
              0.4444444444444444,
              "#bd3786"
             ],
             [
              0.5555555555555556,
              "#d8576b"
             ],
             [
              0.6666666666666666,
              "#ed7953"
             ],
             [
              0.7777777777777778,
              "#fb9f3a"
             ],
             [
              0.8888888888888888,
              "#fdca26"
             ],
             [
              1,
              "#f0f921"
             ]
            ],
            "type": "heatmap"
           }
          ],
          "heatmapgl": [
           {
            "colorbar": {
             "outlinewidth": 0,
             "ticks": ""
            },
            "colorscale": [
             [
              0,
              "#0d0887"
             ],
             [
              0.1111111111111111,
              "#46039f"
             ],
             [
              0.2222222222222222,
              "#7201a8"
             ],
             [
              0.3333333333333333,
              "#9c179e"
             ],
             [
              0.4444444444444444,
              "#bd3786"
             ],
             [
              0.5555555555555556,
              "#d8576b"
             ],
             [
              0.6666666666666666,
              "#ed7953"
             ],
             [
              0.7777777777777778,
              "#fb9f3a"
             ],
             [
              0.8888888888888888,
              "#fdca26"
             ],
             [
              1,
              "#f0f921"
             ]
            ],
            "type": "heatmapgl"
           }
          ],
          "histogram": [
           {
            "marker": {
             "pattern": {
              "fillmode": "overlay",
              "size": 10,
              "solidity": 0.2
             }
            },
            "type": "histogram"
           }
          ],
          "histogram2d": [
           {
            "colorbar": {
             "outlinewidth": 0,
             "ticks": ""
            },
            "colorscale": [
             [
              0,
              "#0d0887"
             ],
             [
              0.1111111111111111,
              "#46039f"
             ],
             [
              0.2222222222222222,
              "#7201a8"
             ],
             [
              0.3333333333333333,
              "#9c179e"
             ],
             [
              0.4444444444444444,
              "#bd3786"
             ],
             [
              0.5555555555555556,
              "#d8576b"
             ],
             [
              0.6666666666666666,
              "#ed7953"
             ],
             [
              0.7777777777777778,
              "#fb9f3a"
             ],
             [
              0.8888888888888888,
              "#fdca26"
             ],
             [
              1,
              "#f0f921"
             ]
            ],
            "type": "histogram2d"
           }
          ],
          "histogram2dcontour": [
           {
            "colorbar": {
             "outlinewidth": 0,
             "ticks": ""
            },
            "colorscale": [
             [
              0,
              "#0d0887"
             ],
             [
              0.1111111111111111,
              "#46039f"
             ],
             [
              0.2222222222222222,
              "#7201a8"
             ],
             [
              0.3333333333333333,
              "#9c179e"
             ],
             [
              0.4444444444444444,
              "#bd3786"
             ],
             [
              0.5555555555555556,
              "#d8576b"
             ],
             [
              0.6666666666666666,
              "#ed7953"
             ],
             [
              0.7777777777777778,
              "#fb9f3a"
             ],
             [
              0.8888888888888888,
              "#fdca26"
             ],
             [
              1,
              "#f0f921"
             ]
            ],
            "type": "histogram2dcontour"
           }
          ],
          "mesh3d": [
           {
            "colorbar": {
             "outlinewidth": 0,
             "ticks": ""
            },
            "type": "mesh3d"
           }
          ],
          "parcoords": [
           {
            "line": {
             "colorbar": {
              "outlinewidth": 0,
              "ticks": ""
             }
            },
            "type": "parcoords"
           }
          ],
          "pie": [
           {
            "automargin": true,
            "type": "pie"
           }
          ],
          "scatter": [
           {
            "fillpattern": {
             "fillmode": "overlay",
             "size": 10,
             "solidity": 0.2
            },
            "type": "scatter"
           }
          ],
          "scatter3d": [
           {
            "line": {
             "colorbar": {
              "outlinewidth": 0,
              "ticks": ""
             }
            },
            "marker": {
             "colorbar": {
              "outlinewidth": 0,
              "ticks": ""
             }
            },
            "type": "scatter3d"
           }
          ],
          "scattercarpet": [
           {
            "marker": {
             "colorbar": {
              "outlinewidth": 0,
              "ticks": ""
             }
            },
            "type": "scattercarpet"
           }
          ],
          "scattergeo": [
           {
            "marker": {
             "colorbar": {
              "outlinewidth": 0,
              "ticks": ""
             }
            },
            "type": "scattergeo"
           }
          ],
          "scattergl": [
           {
            "marker": {
             "colorbar": {
              "outlinewidth": 0,
              "ticks": ""
             }
            },
            "type": "scattergl"
           }
          ],
          "scattermapbox": [
           {
            "marker": {
             "colorbar": {
              "outlinewidth": 0,
              "ticks": ""
             }
            },
            "type": "scattermapbox"
           }
          ],
          "scatterpolar": [
           {
            "marker": {
             "colorbar": {
              "outlinewidth": 0,
              "ticks": ""
             }
            },
            "type": "scatterpolar"
           }
          ],
          "scatterpolargl": [
           {
            "marker": {
             "colorbar": {
              "outlinewidth": 0,
              "ticks": ""
             }
            },
            "type": "scatterpolargl"
           }
          ],
          "scatterternary": [
           {
            "marker": {
             "colorbar": {
              "outlinewidth": 0,
              "ticks": ""
             }
            },
            "type": "scatterternary"
           }
          ],
          "surface": [
           {
            "colorbar": {
             "outlinewidth": 0,
             "ticks": ""
            },
            "colorscale": [
             [
              0,
              "#0d0887"
             ],
             [
              0.1111111111111111,
              "#46039f"
             ],
             [
              0.2222222222222222,
              "#7201a8"
             ],
             [
              0.3333333333333333,
              "#9c179e"
             ],
             [
              0.4444444444444444,
              "#bd3786"
             ],
             [
              0.5555555555555556,
              "#d8576b"
             ],
             [
              0.6666666666666666,
              "#ed7953"
             ],
             [
              0.7777777777777778,
              "#fb9f3a"
             ],
             [
              0.8888888888888888,
              "#fdca26"
             ],
             [
              1,
              "#f0f921"
             ]
            ],
            "type": "surface"
           }
          ],
          "table": [
           {
            "cells": {
             "fill": {
              "color": "#EBF0F8"
             },
             "line": {
              "color": "white"
             }
            },
            "header": {
             "fill": {
              "color": "#C8D4E3"
             },
             "line": {
              "color": "white"
             }
            },
            "type": "table"
           }
          ]
         },
         "layout": {
          "annotationdefaults": {
           "arrowcolor": "#2a3f5f",
           "arrowhead": 0,
           "arrowwidth": 1
          },
          "autotypenumbers": "strict",
          "coloraxis": {
           "colorbar": {
            "outlinewidth": 0,
            "ticks": ""
           }
          },
          "colorscale": {
           "diverging": [
            [
             0,
             "#8e0152"
            ],
            [
             0.1,
             "#c51b7d"
            ],
            [
             0.2,
             "#de77ae"
            ],
            [
             0.3,
             "#f1b6da"
            ],
            [
             0.4,
             "#fde0ef"
            ],
            [
             0.5,
             "#f7f7f7"
            ],
            [
             0.6,
             "#e6f5d0"
            ],
            [
             0.7,
             "#b8e186"
            ],
            [
             0.8,
             "#7fbc41"
            ],
            [
             0.9,
             "#4d9221"
            ],
            [
             1,
             "#276419"
            ]
           ],
           "sequential": [
            [
             0,
             "#0d0887"
            ],
            [
             0.1111111111111111,
             "#46039f"
            ],
            [
             0.2222222222222222,
             "#7201a8"
            ],
            [
             0.3333333333333333,
             "#9c179e"
            ],
            [
             0.4444444444444444,
             "#bd3786"
            ],
            [
             0.5555555555555556,
             "#d8576b"
            ],
            [
             0.6666666666666666,
             "#ed7953"
            ],
            [
             0.7777777777777778,
             "#fb9f3a"
            ],
            [
             0.8888888888888888,
             "#fdca26"
            ],
            [
             1,
             "#f0f921"
            ]
           ],
           "sequentialminus": [
            [
             0,
             "#0d0887"
            ],
            [
             0.1111111111111111,
             "#46039f"
            ],
            [
             0.2222222222222222,
             "#7201a8"
            ],
            [
             0.3333333333333333,
             "#9c179e"
            ],
            [
             0.4444444444444444,
             "#bd3786"
            ],
            [
             0.5555555555555556,
             "#d8576b"
            ],
            [
             0.6666666666666666,
             "#ed7953"
            ],
            [
             0.7777777777777778,
             "#fb9f3a"
            ],
            [
             0.8888888888888888,
             "#fdca26"
            ],
            [
             1,
             "#f0f921"
            ]
           ]
          },
          "colorway": [
           "#636efa",
           "#EF553B",
           "#00cc96",
           "#ab63fa",
           "#FFA15A",
           "#19d3f3",
           "#FF6692",
           "#B6E880",
           "#FF97FF",
           "#FECB52"
          ],
          "font": {
           "color": "#2a3f5f"
          },
          "geo": {
           "bgcolor": "white",
           "lakecolor": "white",
           "landcolor": "#E5ECF6",
           "showlakes": true,
           "showland": true,
           "subunitcolor": "white"
          },
          "hoverlabel": {
           "align": "left"
          },
          "hovermode": "closest",
          "mapbox": {
           "style": "light"
          },
          "paper_bgcolor": "white",
          "plot_bgcolor": "#E5ECF6",
          "polar": {
           "angularaxis": {
            "gridcolor": "white",
            "linecolor": "white",
            "ticks": ""
           },
           "bgcolor": "#E5ECF6",
           "radialaxis": {
            "gridcolor": "white",
            "linecolor": "white",
            "ticks": ""
           }
          },
          "scene": {
           "xaxis": {
            "backgroundcolor": "#E5ECF6",
            "gridcolor": "white",
            "gridwidth": 2,
            "linecolor": "white",
            "showbackground": true,
            "ticks": "",
            "zerolinecolor": "white"
           },
           "yaxis": {
            "backgroundcolor": "#E5ECF6",
            "gridcolor": "white",
            "gridwidth": 2,
            "linecolor": "white",
            "showbackground": true,
            "ticks": "",
            "zerolinecolor": "white"
           },
           "zaxis": {
            "backgroundcolor": "#E5ECF6",
            "gridcolor": "white",
            "gridwidth": 2,
            "linecolor": "white",
            "showbackground": true,
            "ticks": "",
            "zerolinecolor": "white"
           }
          },
          "shapedefaults": {
           "line": {
            "color": "#2a3f5f"
           }
          },
          "ternary": {
           "aaxis": {
            "gridcolor": "white",
            "linecolor": "white",
            "ticks": ""
           },
           "baxis": {
            "gridcolor": "white",
            "linecolor": "white",
            "ticks": ""
           },
           "bgcolor": "#E5ECF6",
           "caxis": {
            "gridcolor": "white",
            "linecolor": "white",
            "ticks": ""
           }
          },
          "title": {
           "x": 0.05
          },
          "xaxis": {
           "automargin": true,
           "gridcolor": "white",
           "linecolor": "white",
           "ticks": "",
           "title": {
            "standoff": 15
           },
           "zerolinecolor": "white",
           "zerolinewidth": 2
          },
          "yaxis": {
           "automargin": true,
           "gridcolor": "white",
           "linecolor": "white",
           "ticks": "",
           "title": {
            "standoff": 15
           },
           "zerolinecolor": "white",
           "zerolinewidth": 2
          }
         }
        },
        "title": {
         "text": "Encounter Class Transition Sankey Diagram"
        }
       }
      }
     },
     "metadata": {},
     "output_type": "display_data"
    }
   ],
   "source": [
    "df_collect_encounter_class_transition = df_encounter_class_transition.collect()\n",
    "\n",
    "source = [item['parent_encounter_code'] for item in df_collect_encounter_class_transition]\n",
    "target = [item['child_encounter_code'] for item in df_collect_encounter_class_transition]\n",
    "count = [item['cnt'] for item in df_collect_encounter_class_transition]\n",
    "\n",
    "# Create a mapping from labels to indices\n",
    "labels = list(set(source + target))\n",
    "label_to_index = {label: i for i, label in enumerate(labels)}\n",
    "\n",
    "# Convert source and target labels to indices\n",
    "source_indices = [label_to_index[s] for s in source]\n",
    "target_indices = [label_to_index[t] for t in target]\n",
    "\n",
    "fig_sankey_encounter_class_transition = go.Figure(data=[go.Sankey(\n",
    "    node=dict(pad=15, thickness=20, line=dict(color=\"black\", width=0.5), label=labels),\n",
    "    link=dict(source=source_indices, target=target_indices, value=count)\n",
    ")])\n",
    "\n",
    "fig_sankey_encounter_class_transition.update_layout(\n",
    "    height=600,\n",
    "    title_text=\"Encounter Class Transition Sankey Diagram\"\n",
    ")\n",
    "\n",
    "fig_sankey_encounter_class_transition.show()"
   ]
  },
  {
   "cell_type": "markdown",
   "metadata": {},
   "source": [
    "### Testing"
   ]
  },
  {
   "cell_type": "code",
   "execution_count": 14,
   "metadata": {},
   "outputs": [],
   "source": [
    "# %%sparksql\n",
    "# with child_encounter as (\n",
    "#     select id, replace(partOf.reference, \"Encounter/\", \"\") parent_id, source_name\n",
    "#     FROM df_encounter_domain\n",
    "#     where partOf.reference is not null\n",
    "# )\n",
    "# select\n",
    "#     child_encounter.source_name child_source,\n",
    "#     parent_encounter.source_name parent_source,\n",
    "#     count(*)\n",
    "# from child_encounter\n",
    "# left join df_encounter_domain parent_encounter\n",
    "# on parent_encounter.id = child_encounter.parent_id\n",
    "# group by 1,2\n",
    "# limit 10"
   ]
  },
  {
   "cell_type": "code",
   "execution_count": 15,
   "metadata": {},
   "outputs": [],
   "source": [
    "# %%sparksql\n",
    "# select type_coding.* from \n",
    "# (select  explode(type_coding) type_coding from (\n",
    "# select explode(type.coding) type_coding from df_encounter\n",
    "# ))"
   ]
  }
 ],
 "metadata": {
  "kernelspec": {
   "display_name": "Python 3",
   "language": "python",
   "name": "python3"
  },
  "language_info": {
   "codemirror_mode": {
    "name": "ipython",
    "version": 3
   },
   "file_extension": ".py",
   "mimetype": "text/x-python",
   "name": "python",
   "nbconvert_exporter": "python",
   "pygments_lexer": "ipython3",
   "version": "3.11.9"
  }
 },
 "nbformat": 4,
 "nbformat_minor": 2
}
