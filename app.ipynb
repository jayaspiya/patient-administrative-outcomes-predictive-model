{
 "cells": [
  {
   "cell_type": "code",
   "execution_count": null,
   "metadata": {},
   "outputs": [],
   "source": [
    "# !pip install pyspark\n",
    "# !pip install python-dotenv\n",
    "# !pip install pycryptodome\n",
    "# !pip install pandas"
   ]
  },
  {
   "cell_type": "markdown",
   "metadata": {},
   "source": [
    "# 1. Initalize Spark Session"
   ]
  },
  {
   "cell_type": "code",
   "execution_count": null,
   "metadata": {},
   "outputs": [],
   "source": [
    "from pyspark.sql import SparkSession\n",
    "import pyspark.sql.functions as F\n",
    "import pyspark.sql.types as T\n",
    "\n",
    "import json\n",
    "import os\n",
    "import base64\n",
    "\n",
    "import pandas as pd\n",
    "\n",
    "from Crypto.Cipher import AES\n",
    "from dotenv import load_dotenv\n",
    "load_dotenv()\n",
    "\n",
    "# Define PostgreSQL connection properties\n",
    "connection_url = os.getenv('db_connection')\n",
    "connection_config = {\n",
    "    \"user\": os.getenv('db_user'),\n",
    "    \"password\": os.getenv('db_password'),\n",
    "    \"driver\": \"org.postgresql.Driver\"\n",
    "}"
   ]
  },
  {
   "cell_type": "code",
   "execution_count": null,
   "metadata": {},
   "outputs": [],
   "source": [
    "spark = SparkSession.builder \\\n",
    "    .appName(\"FhirDataApplication\") \\\n",
    "    .config(\"spark.jars\", \"/home/snowblade/Downloads/postgresql-42.7.4.jar\") \\\n",
    "    .getOrCreate()\n",
    "\n",
    "display(spark)"
   ]
  },
  {
   "cell_type": "markdown",
   "metadata": {},
   "source": [
    "# 2. Bronze Load | FHIR Integration"
   ]
  },
  {
   "cell_type": "markdown",
   "metadata": {},
   "source": [
    "## 2.1. Patient Data"
   ]
  },
  {
   "cell_type": "code",
   "execution_count": null,
   "metadata": {},
   "outputs": [],
   "source": [
    "bronze_patient_df =  spark.read.text(\"/home/snowblade/private/MimicPatient.ndjson.gz\")\\\n",
    "    .withColumn(\"source\", F.split_part(F.input_file_name(), F.lit(\"/\"), F.lit(-1)))\\\n",
    "    .withColumn('root_id', F.expr('uuid()'))"
   ]
  },
  {
   "cell_type": "code",
   "execution_count": null,
   "metadata": {},
   "outputs": [],
   "source": [
    "bronze_patient_df.write.jdbc(\n",
    "    table=\"bronze.patient_data\",\n",
    "    mode=\"overwrite\",\n",
    "    url=connection_url,\n",
    "    properties=connection_config\n",
    ")"
   ]
  },
  {
   "cell_type": "markdown",
   "metadata": {},
   "source": [
    "## 2.2 Encounter Data"
   ]
  },
  {
   "cell_type": "code",
   "execution_count": null,
   "metadata": {
    "vscode": {
     "languageId": "sql"
    }
   },
   "outputs": [],
   "source": [
    "bronze_encounter_df =  spark.read.text(\"/home/snowblade/private/MimicEncounter.ndjson.gz\")\\\n",
    "    .withColumn(\"source\", F.split_part(F.input_file_name(), F.lit(\"/\"), F.lit(-1)))\\\n",
    "    .withColumn('root_id', F.expr('uuid()'))\n",
    "\n",
    "bronze_encounter_ed_df =  spark.read.text(\"/home/snowblade/private/MimicEncounterED.ndjson.gz\")\\\n",
    "    .withColumn(\"source\", F.split_part(F.input_file_name(), F.lit(\"/\"), F.lit(-1)))\\\n",
    "    .withColumn('root_id', F.expr('uuid()'))\n",
    "\n",
    "\n",
    "bronze_encounter_df = bronze_encounter_df.union(bronze_encounter_ed_df)"
   ]
  },
  {
   "cell_type": "code",
   "execution_count": null,
   "metadata": {
    "vscode": {
     "languageId": "sql"
    }
   },
   "outputs": [],
   "source": [
    "bronze_encounter_df.write.jdbc(\n",
    "    table=\"bronze.encounter_data\",\n",
    "    mode=\"overwrite\",\n",
    "    url=connection_url,\n",
    "    properties=connection_config\n",
    ")"
   ]
  },
  {
   "cell_type": "markdown",
   "metadata": {},
   "source": [
    "## 2.2 Condition Data"
   ]
  },
  {
   "cell_type": "code",
   "execution_count": null,
   "metadata": {
    "vscode": {
     "languageId": "sql"
    }
   },
   "outputs": [],
   "source": [
    "bronze_condition_df =  spark.read.text(\"/home/snowblade/private/MimicCondition.ndjson.gz\")\\\n",
    "    .withColumn(\"source\", F.split_part(F.input_file_name(), F.lit(\"/\"), F.lit(-1)))\\\n",
    "    .withColumn('root_id', F.expr('uuid()'))\n",
    "\n",
    "bronze_condition_ed_df =  spark.read.text(\"/home/snowblade/private/MimicConditionED.ndjson.gz\")\\\n",
    "    .withColumn(\"source\", F.split_part(F.input_file_name(), F.lit(\"/\"), F.lit(-1)))\\\n",
    "    .withColumn('root_id', F.expr('uuid()'))\n",
    "\n",
    "\n",
    "bronze_condition_df = bronze_condition_df.union(bronze_condition_ed_df)"
   ]
  },
  {
   "cell_type": "code",
   "execution_count": null,
   "metadata": {
    "vscode": {
     "languageId": "sql"
    }
   },
   "outputs": [],
   "source": [
    "bronze_condition_df.write.jdbc(\n",
    "    table=\"bronze.condition_data\",\n",
    "    mode=\"overwrite\",\n",
    "    url=connection_url,\n",
    "    properties=connection_config\n",
    ")"
   ]
  },
  {
   "cell_type": "markdown",
   "metadata": {
    "vscode": {
     "languageId": "sql"
    }
   },
   "source": [
    "# 3. Silver Transformation | Feature Engineering"
   ]
  },
  {
   "cell_type": "markdown",
   "metadata": {},
   "source": [
    "## 3.1. Patient Resource"
   ]
  },
  {
   "cell_type": "code",
   "execution_count": null,
   "metadata": {},
   "outputs": [],
   "source": [
    "with open('schema/Patient.json') as f:\n",
    "    schema = T.StructType.fromJson(json.loads(f.read()))\n",
    "\n",
    "bronze_patient_df = spark.read.jdbc(\n",
    "    url=connection_url,\n",
    "    table=\"bronze.patient_data\",\n",
    "    properties=connection_config\n",
    ")\n",
    "\n",
    "bronze_patient_df = bronze_patient_df.withColumn('parsed_value', F.from_json(F.col('value'), schema))\n",
    "bronze_patient_df = bronze_patient_df.select('root_id', 'parsed_value.*', 'source')\n",
    "bronze_patient_df.createOrReplaceTempView('bronze_patient_df')"
   ]
  },
  {
   "cell_type": "code",
   "execution_count": null,
   "metadata": {},
   "outputs": [],
   "source": [
    "silver_patient_df = spark.sql(\"\"\"\n",
    "select \n",
    "    root_id,\n",
    "    id AS patientId,\n",
    "    gender AS gender,\n",
    "    to_date(birthDate) birthDate,\n",
    "    maritalStatus.coding[0].code AS maritalStatus,\n",
    "    source\n",
    "from bronze_patient_df\n",
    "\"\"\")\n",
    "\n",
    "silver_patient_df.write.jdbc(\n",
    "    table=\"silver.patient\",\n",
    "    mode=\"overwrite\",\n",
    "    url=connection_url,\n",
    "    properties=connection_config\n",
    ")"
   ]
  },
  {
   "cell_type": "markdown",
   "metadata": {},
   "source": [
    "## 3.2. Encounter Resource"
   ]
  },
  {
   "cell_type": "code",
   "execution_count": null,
   "metadata": {},
   "outputs": [],
   "source": [
    "with open('schema/Encounter.json') as f:\n",
    "    schema = T.StructType.fromJson(json.loads(f.read()))\n",
    "\n",
    "bronze_encounter_df = spark.read.jdbc(\n",
    "    url=connection_url,\n",
    "    table=\"bronze.encounter_data\",\n",
    "    properties=connection_config\n",
    ")\n",
    "\n",
    "bronze_encounter_df = bronze_encounter_df.withColumn('parsed_value', F.from_json(F.col('value'), schema))\n",
    "bronze_encounter_df = bronze_encounter_df.select('root_id', 'parsed_value.*', 'source')\n",
    "bronze_encounter_df.createOrReplaceTempView('bronze_encounter_df')"
   ]
  },
  {
   "cell_type": "code",
   "execution_count": null,
   "metadata": {},
   "outputs": [],
   "source": [
    "silver_encounter_df = spark.sql(\"\"\"\n",
    "SELECT\n",
    "    root_id,\n",
    "    id AS encounterId,\n",
    "    replace(subject.reference, \"Patient/\", \"\") AS patientId,\n",
    "    replace(partOf.reference, \"Encounter/\", \"\") AS ref_encounterId,\n",
    "    CAST(period.start AS timestamp) periodStart,\n",
    "    CAST(period.end AS timestamp) periodEnd,\n",
    "    date_diff(day, periodStart, periodEnd) duration,\n",
    "    status AS status,\n",
    "    class.code AS encounterClass,\n",
    "    type[0].coding[0].display AS displayType,\n",
    "    nvl(priority.coding[0].display, 'emergency') AS priority,\n",
    "    -- Next EncounterID & Readmission Status\n",
    "    LEAD(id) OVER (PARTITION BY subject.reference ORDER BY period.start) AS nextEncounterId,\n",
    "    CASE \n",
    "        WHEN DATEDIFF(day, period.end, LEAD(period.start) OVER (PARTITION BY subject.reference ORDER BY period.start)) <= 30 THEN 'Readmission'\n",
    "        ELSE 'No Readmission'\n",
    "    END AS readmissionStatus,\n",
    "    source\n",
    "FROM bronze_encounter_df\n",
    "\"\"\")\n",
    "\n",
    "silver_encounter_df.write.jdbc(\n",
    "    table=\"silver.encounter\",\n",
    "    mode=\"overwrite\",\n",
    "    url=connection_url,\n",
    "    properties=connection_config\n",
    ")"
   ]
  },
  {
   "cell_type": "markdown",
   "metadata": {},
   "source": [
    "## 3.3. Condition Resource"
   ]
  },
  {
   "cell_type": "code",
   "execution_count": null,
   "metadata": {},
   "outputs": [],
   "source": [
    "with open('schema/Condition.json') as f:\n",
    "    schema = T.StructType.fromJson(json.loads(f.read()))\n",
    "\n",
    "bronze_condition_df = spark.read.jdbc(\n",
    "    url=connection_url,\n",
    "    table=\"bronze.condition_data\",\n",
    "    properties=connection_config\n",
    ")\n",
    "\n",
    "bronze_condition_df = bronze_condition_df.withColumn('parsed_value', F.from_json(F.col('value'), schema))\n",
    "bronze_condition_df = bronze_condition_df.select('root_id', 'parsed_value.*', 'source')\n",
    "bronze_condition_df.createOrReplaceTempView('bronze_condition_df')"
   ]
  },
  {
   "cell_type": "code",
   "execution_count": null,
   "metadata": {},
   "outputs": [],
   "source": [
    "silver_condition_df = spark.sql(\"\"\"\n",
    "SELECT\n",
    "    root_id,\n",
    "    id AS conditionId,\n",
    "    replace(subject.reference, \"Patient/\", \"\") AS patientId,\n",
    "    replace(encounter.reference, \"Encounter/\", \"\") AS encounterId,\n",
    "    category[0].coding[0].code categoryCode,\n",
    "    code.coding[0].code AS conditionCode,\n",
    "    code.coding[0].display AS conditionDisplay,\n",
    "    code.coding[0].system AS conditionSystem,\n",
    "    source\n",
    "FROM bronze_condition_df\n",
    "\"\"\")\n",
    "silver_condition_df.write.jdbc(\n",
    "    table=\"silver.condition\",\n",
    "    mode=\"overwrite\",\n",
    "    url=connection_url,\n",
    "    properties=connection_config\n",
    ")"
   ]
  }
 ],
 "metadata": {
  "kernelspec": {
   "display_name": ".venv",
   "language": "python",
   "name": "python3"
  },
  "language_info": {
   "codemirror_mode": {
    "name": "ipython",
    "version": 3
   },
   "file_extension": ".py",
   "mimetype": "text/x-python",
   "name": "python",
   "nbconvert_exporter": "python",
   "pygments_lexer": "ipython3",
   "version": "3.12.3"
  }
 },
 "nbformat": 4,
 "nbformat_minor": 2
}
